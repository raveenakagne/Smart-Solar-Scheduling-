{
 "cells": [
  {
   "cell_type": "code",
   "execution_count": 1,
   "id": "a606a11d-0740-4b48-bbcb-858f4c9de527",
   "metadata": {
    "editable": true,
    "slideshow": {
     "slide_type": ""
    },
    "tags": []
   },
   "outputs": [],
   "source": [
    "import pandas as pd\n",
    "from sklearn.model_selection import train_test_split\n",
    "from sklearn.ensemble import RandomForestRegressor\n",
    "from sklearn.metrics import mean_squared_error, r2_score, mean_absolute_error\n",
    "from sklearn.preprocessing import MinMaxScaler\n",
    "import numpy as np\n",
    "import matplotlib.pyplot as plt\n",
    "\n",
    "# Load your data\n",
    "df = pd.read_csv('solar_generation_selected_features.csv')\n"
   ]
  },
  {
   "cell_type": "code",
   "execution_count": 3,
   "id": "3a50ee57-1f3a-4e76-8d9b-b1562a8eac4c",
   "metadata": {},
   "outputs": [],
   "source": [
    "# Select your features and target\n",
    "X = df.drop(['Solar Production (kWh)'], axis=1)\n",
    "y = df['Solar Production (kWh)']\n",
    "\n",
    "# Split the data into training and testing sets without scaling yet to preserve DataFrame structure\n",
    "X_train_temp, X_test, y_train_temp, y_test = train_test_split(X, y, test_size=0.2, random_state=42)\n",
    "X_train, X_val, y_train, y_val = train_test_split(X_train_temp, y_train_temp, test_size=0.25, random_state=42)\n",
    "\n",
    "# Assign labels to each set in the original DataFrame\n",
    "df['Set'] = 'Train'  # Default to 'Train'\n",
    "df.loc[X_test.index, 'Set'] = 'Test'  # Assign 'Test' to test set\n",
    "df.loc[X_val.index, 'Set'] = 'Val'  # Assign 'Val' to validation set\n",
    "\n",
    "# Initialize the scaler and scale the features now\n",
    "scaler = MinMaxScaler()\n",
    "X_train_scaled = scaler.fit_transform(X_train)\n",
    "X_val_scaled = scaler.transform(X_val)\n",
    "X_test_scaled = scaler.transform(X_test)\n"
   ]
  },
  {
   "cell_type": "code",
   "execution_count": 4,
   "id": "d9955b64-8704-443c-9f24-2fa6ab77a555",
   "metadata": {},
   "outputs": [],
   "source": [
    "# Initialize the Random Forest Regressor\n",
    "random_forest_model = RandomForestRegressor(n_estimators=100, random_state=42)\n",
    "\n",
    "# Fit the model on the training data\n",
    "random_forest_model.fit(X_train, y_train)\n",
    "\n",
    "# Predict on the validation set\n",
    "y_val_pred = random_forest_model.predict(X_val)\n"
   ]
  },
  {
   "cell_type": "code",
   "execution_count": 5,
   "id": "710ccbb8-2e9d-4a77-a09e-4f69f8aa28f4",
   "metadata": {},
   "outputs": [
    {
     "name": "stdout",
     "output_type": "stream",
     "text": [
      "Random Forest Validation RMSE: 0.40892234155904406\n",
      "Random Forest Validation R^2: 0.9342767570487084\n",
      "Random Forest Validation MAE: 0.19400230572160546\n"
     ]
    }
   ],
   "source": [
    "# Evaluate the model on the validation set\n",
    "mse_val = mean_squared_error(y_val, y_val_pred)\n",
    "rmse_val = np.sqrt(mse_val)\n",
    "r2_val = r2_score(y_val, y_val_pred)\n",
    "mae_val = mean_absolute_error(y_val, y_val_pred)\n",
    "\n",
    "# Print validation performance metrics\n",
    "print(f'Random Forest Validation RMSE: {rmse_val}')\n",
    "print(f'Random Forest Validation R^2: {r2_val}')\n",
    "print(f'Random Forest Validation MAE: {mae_val}')"
   ]
  },
  {
   "cell_type": "code",
   "execution_count": 6,
   "id": "0f84eb8e-dc26-468c-a259-4d9192f6a6a2",
   "metadata": {},
   "outputs": [
    {
     "name": "stdout",
     "output_type": "stream",
     "text": [
      "Random Forest Test RMSE: 0.44187313967921366\n",
      "Random Forest Test R^2: 0.9293096593286214\n",
      "Random Forest Test MAE: 0.20611450511945392\n"
     ]
    }
   ],
   "source": [
    "# Predict on the test data\n",
    "y_pred = random_forest_model.predict(X_test)\n",
    "\n",
    "# Evaluate the model on the test set\n",
    "mse = mean_squared_error(y_test, y_pred)\n",
    "rmse = np.sqrt(mse)\n",
    "r2 = r2_score(y_test, y_pred)\n",
    "mae = mean_absolute_error(y_test, y_pred)\n",
    "\n",
    "# Print test performance metrics\n",
    "print(f'Random Forest Test RMSE: {rmse}')\n",
    "print(f'Random Forest Test R^2: {r2}')\n",
    "print(f'Random Forest Test MAE: {mae}')\n"
   ]
  },
  {
   "cell_type": "code",
   "execution_count": 12,
   "id": "9aef9d6a-59e6-48b4-a4e4-bd197b653ad1",
   "metadata": {},
   "outputs": [],
   "source": [
    "#generating predictions for the entire dataset\n",
    "# Predict solar production for the entire dataset\n",
    "df['Predicted Solar Production (kWh)'] = random_forest_model.predict(X)\n"
   ]
  },
  {
   "cell_type": "code",
   "execution_count": 13,
   "id": "06de30fd-f181-445e-a055-9d369ec4f3f1",
   "metadata": {},
   "outputs": [
    {
     "name": "stdout",
     "output_type": "stream",
     "text": [
      "Mean Absolute Error (MAE): 0.12353989071038252\n",
      "Root Mean Squared Error (RMSE): 0.2967965383805413\n",
      "R-squared (R²): 0.9668285331139966\n"
     ]
    }
   ],
   "source": [
    "from sklearn.metrics import mean_squared_error, r2_score, mean_absolute_error\n",
    "# Calculate Mean Absolute Error (MAE)\n",
    "mae = mean_absolute_error(df['Solar Production (kWh)'], df['Predicted Solar Production (kWh)'])\n",
    "\n",
    "# Calculate Mean Squared Error (MSE) and Root Mean Squared Error (RMSE)\n",
    "mse = mean_squared_error(df['Solar Production (kWh)'], df['Predicted Solar Production (kWh)'])\n",
    "rmse = np.sqrt(mse)\n",
    "\n",
    "# Calculate R-squared (R²)\n",
    "r2 = r2_score(df['Solar Production (kWh)'], df['Predicted Solar Production (kWh)'])\n",
    "print(f'Mean Absolute Error (MAE): {mae}')\n",
    "print(f'Root Mean Squared Error (RMSE): {rmse}')\n",
    "print(f'R-squared (R²): {r2}')\n"
   ]
  },
  {
   "cell_type": "code",
   "execution_count": 14,
   "id": "6531e931-0b8a-40b1-813c-3bd08a49fc6b",
   "metadata": {},
   "outputs": [],
   "source": [
    "#determining threshold recommendation\n",
    "\n",
    "charge_threshold = df['Predicted Solar Production (kWh)'].quantile(0.75)  # Top 25% production times\n",
    "df['Charge Recommendation'] = (df['Predicted Solar Production (kWh)'] >= charge_threshold).replace({True: 'Recommended', False: 'Not Recommended'})\n"
   ]
  },
  {
   "cell_type": "code",
   "execution_count": 15,
   "id": "90fda0da-8830-47c0-85c9-81971ce6d9ca",
   "metadata": {},
   "outputs": [],
   "source": [
    "df.to_csv('solar_predictions_with_recommendations.csv', index=False)\n"
   ]
  },
  {
   "cell_type": "code",
   "execution_count": 16,
   "id": "2f3e3019-92e6-4d39-a877-369a5a426e45",
   "metadata": {},
   "outputs": [
    {
     "name": "stdout",
     "output_type": "stream",
     "text": [
      "      name             datetime  temp  feelslike   dew  humidity  precip  \\\n",
      "0  Manteca  2023-08-01T00:00:00  74.5       74.5  47.8     38.80     0.0   \n",
      "1  Manteca  2023-08-01T01:00:00  73.5       73.5  48.8     41.62     0.0   \n",
      "2  Manteca  2023-08-01T02:00:00  71.7       71.7  49.9     46.29     0.0   \n",
      "3  Manteca  2023-08-01T03:00:00  70.6       70.6  51.0     49.91     0.0   \n",
      "4  Manteca  2023-08-01T04:00:00  67.9       67.9  52.7     58.26     0.0   \n",
      "\n",
      "   precipprob preciptype  snow  ...  severerisk  conditions         icon  \\\n",
      "0           0        NaN     0  ...          10       Clear  clear-night   \n",
      "1           0        NaN     0  ...          10       Clear  clear-night   \n",
      "2           0        NaN     0  ...          10       Clear  clear-night   \n",
      "3           0        NaN     0  ...          10       Clear  clear-night   \n",
      "4           0        NaN     0  ...          10       Clear  clear-night   \n",
      "\n",
      "                                            stations  Home Usage (kWh)  \\\n",
      "0  CI070,KSCK,KMOD,KLVK,72492723285,72492623258,7...              0.80   \n",
      "1  CI070,KSCK,KMOD,KLVK,72492723285,72492623258,7...              0.55   \n",
      "2  CI070,KSCK,KMOD,KLVK,72492723285,72492623258,7...              0.70   \n",
      "3  CI070,KSCK,KMOD,KLVK,72492723285,72492623258,7...              0.33   \n",
      "4  CI070,KSCK,KMOD,KLVK,72492723285,72492623258,7...              0.48   \n",
      "\n",
      "   Net Grid Energy(kWh)  Cumulative Solar Production (kWh)  \\\n",
      "0                  0.80                               0.00   \n",
      "1                  0.54                               0.01   \n",
      "2                  0.70                               0.01   \n",
      "3                  0.32                               0.02   \n",
      "4                  0.48                               0.02   \n",
      "\n",
      "   Cumulative Home Usage (kWh)  Cumulative Net Grid Energy (kWh)  \\\n",
      "0                         0.80                              0.80   \n",
      "1                         1.35                              1.34   \n",
      "2                         2.05                              2.04   \n",
      "3                         2.38                              2.36   \n",
      "4                         2.86                              2.84   \n",
      "\n",
      "   Solar Production (kWh)  \n",
      "0                    0.00  \n",
      "1                    0.01  \n",
      "2                    0.00  \n",
      "3                    0.01  \n",
      "4                    0.00  \n",
      "\n",
      "[5 rows x 30 columns]\n"
     ]
    }
   ],
   "source": [
    "import pandas as pd\n",
    "\n",
    "# Load the Excel file\n",
    "df1 = pd.read_excel('Solar_Weather_FInal_Dataset.xlsx')\n",
    "\n",
    "# Display the first few rows of the DataFrame to understand the structure, especially how the date is formatted\n",
    "print(df1.head())\n"
   ]
  },
  {
   "cell_type": "code",
   "execution_count": 17,
   "id": "d7cd7771-af8b-41a8-b51b-c3cf84b694e1",
   "metadata": {},
   "outputs": [
    {
     "name": "stdout",
     "output_type": "stream",
     "text": [
      "5856 5856\n"
     ]
    }
   ],
   "source": [
    "# Check that both dataframes have the same number of rows\n",
    "print(df.shape[0], df1.shape[0])"
   ]
  },
  {
   "cell_type": "code",
   "execution_count": 18,
   "id": "c2c48487-bec1-47b6-9301-9d290c528cf0",
   "metadata": {},
   "outputs": [],
   "source": [
    "# Copy the datetime column from df1 to df\n",
    "df['datetime'] = df1['datetime']\n"
   ]
  },
  {
   "cell_type": "code",
   "execution_count": 19,
   "id": "303100a6-26ab-42f1-90bb-49e5e67f62e4",
   "metadata": {},
   "outputs": [],
   "source": [
    "df.to_csv('solar_predictions_with_recommendations.csv', index=False)"
   ]
  },
  {
   "cell_type": "code",
   "execution_count": 20,
   "id": "ba191220-0779-4a22-8d8c-45ea55beae56",
   "metadata": {},
   "outputs": [
    {
     "name": "stdout",
     "output_type": "stream",
     "text": [
      "   temp   dew  humidity  solarradiation  windspeed  cloudcover  visibility  \\\n",
      "0  74.5  47.8     38.80               0        7.8         0.0         9.9   \n",
      "1  73.5  48.8     41.62               0        8.6         0.0         9.9   \n",
      "2  71.7  49.9     46.29               0        4.8         0.0         9.9   \n",
      "3  70.6  51.0     49.91               0        6.9         0.0         9.8   \n",
      "4  67.9  52.7     58.26               0        5.5         0.0         9.9   \n",
      "\n",
      "   hour  day_of_week  month  ...  conditions_Overcast  \\\n",
      "0     0            1      8  ...                False   \n",
      "1     1            1      8  ...                False   \n",
      "2     2            1      8  ...                False   \n",
      "3     3            1      8  ...                False   \n",
      "4     4            1      8  ...                False   \n",
      "\n",
      "   conditions_Partially cloudy  conditions_Rain  conditions_Rain, Overcast  \\\n",
      "0                        False            False                      False   \n",
      "1                        False            False                      False   \n",
      "2                        False            False                      False   \n",
      "3                        False            False                      False   \n",
      "4                        False            False                      False   \n",
      "\n",
      "   conditions_Rain, Partially cloudy  Solar Production (kWh)    Set  \\\n",
      "0                              False                    0.00  Train   \n",
      "1                              False                    0.01  Train   \n",
      "2                              False                    0.00  Train   \n",
      "3                              False                    0.01  Train   \n",
      "4                              False                    0.00  Train   \n",
      "\n",
      "  Predicted Solar Production (kWh)  Charge Recommendation             datetime  \n",
      "0                           0.0021        Not Recommended  2023-08-01T00:00:00  \n",
      "1                           0.0062        Not Recommended  2023-08-01T01:00:00  \n",
      "2                           0.0021        Not Recommended  2023-08-01T02:00:00  \n",
      "3                           0.0081        Not Recommended  2023-08-01T03:00:00  \n",
      "4                           0.0032        Not Recommended  2023-08-01T04:00:00  \n",
      "\n",
      "[5 rows x 21 columns]\n"
     ]
    }
   ],
   "source": [
    "# Display the first few rows of the updated DataFrame to check the datetime column\n",
    "print(df.head())\n"
   ]
  },
  {
   "cell_type": "code",
   "execution_count": 21,
   "id": "0a9a221c-7fa6-470d-aa10-6ef551d863f1",
   "metadata": {},
   "outputs": [
    {
     "name": "stdout",
     "output_type": "stream",
     "text": [
      "   temp   dew  humidity  solarradiation  windspeed  cloudcover  visibility  \\\n",
      "0  74.5  47.8     38.80               0        7.8         0.0         9.9   \n",
      "1  73.5  48.8     41.62               0        8.6         0.0         9.9   \n",
      "2  71.7  49.9     46.29               0        4.8         0.0         9.9   \n",
      "3  70.6  51.0     49.91               0        6.9         0.0         9.8   \n",
      "4  67.9  52.7     58.26               0        5.5         0.0         9.9   \n",
      "\n",
      "   hour  day_of_week  month  ...  conditions_Overcast  \\\n",
      "0     0            1      8  ...                False   \n",
      "1     1            1      8  ...                False   \n",
      "2     2            1      8  ...                False   \n",
      "3     3            1      8  ...                False   \n",
      "4     4            1      8  ...                False   \n",
      "\n",
      "   conditions_Partially cloudy  conditions_Rain  conditions_Rain, Overcast  \\\n",
      "0                        False            False                      False   \n",
      "1                        False            False                      False   \n",
      "2                        False            False                      False   \n",
      "3                        False            False                      False   \n",
      "4                        False            False                      False   \n",
      "\n",
      "   conditions_Rain, Partially cloudy  Solar Production (kWh)    Set  \\\n",
      "0                              False                    0.00  Train   \n",
      "1                              False                    0.01  Train   \n",
      "2                              False                    0.00  Train   \n",
      "3                              False                    0.01  Train   \n",
      "4                              False                    0.00  Train   \n",
      "\n",
      "  Predicted Solar Production (kWh)  Charge Recommendation             datetime  \n",
      "0                           0.0021        Not Recommended  2023-08-01T00:00:00  \n",
      "1                           0.0062        Not Recommended  2023-08-01T01:00:00  \n",
      "2                           0.0021        Not Recommended  2023-08-01T02:00:00  \n",
      "3                           0.0081        Not Recommended  2023-08-01T03:00:00  \n",
      "4                           0.0032        Not Recommended  2023-08-01T04:00:00  \n",
      "\n",
      "[5 rows x 21 columns]\n"
     ]
    }
   ],
   "source": [
    "# Load the CSV file to check if the datetime column is present\n",
    "df_check = pd.read_csv('solar_predictions_with_recommendations.csv')\n",
    "print(df_check.head())\n"
   ]
  },
  {
   "cell_type": "code",
   "execution_count": null,
   "id": "d599c39f-add5-429c-a693-a2e0b783310f",
   "metadata": {},
   "outputs": [],
   "source": []
  }
 ],
 "metadata": {
  "kernelspec": {
   "display_name": "Python 3.10.4 (pyenv)",
   "language": "python",
   "name": "pyenv3104"
  },
  "language_info": {
   "codemirror_mode": {
    "name": "ipython",
    "version": 3
   },
   "file_extension": ".py",
   "mimetype": "text/x-python",
   "name": "python",
   "nbconvert_exporter": "python",
   "pygments_lexer": "ipython3",
   "version": "3.10.4"
  }
 },
 "nbformat": 4,
 "nbformat_minor": 5
}
